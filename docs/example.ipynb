{
 "cells": [
  {
   "cell_type": "markdown",
   "metadata": {},
   "source": [
    "# Example usage\n",
    "\n",
    "To use `py_shakespeare` in a project:"
   ]
  },
  {
   "cell_type": "code",
   "execution_count": null,
   "metadata": {},
   "outputs": [],
   "source": [
    "from py_shakespeare import py_shakespeare\n",
    "\n",
    "print(py_shakespeare.__version__)\n",
    "\n",
    "# get a list of shakespeare plays\n",
    "pl = py_shakespeare.shake_play()\n",
    "pl.get_summary()\n",
    "\n",
    "# get a list of shakespeare monologues\n",
    "ml = py_shakespeare.shake_monologue()\n",
    "ml.get_summary()"
   ]
  }
 ],
 "metadata": {
  "kernelspec": {
   "display_name": "Python 3",
   "language": "python",
   "name": "python3"
  },
  "language_info": {
   "codemirror_mode": {
    "name": "ipython",
    "version": 3
   },
   "file_extension": ".py",
   "mimetype": "text/x-python",
   "name": "python",
   "nbconvert_exporter": "python",
   "pygments_lexer": "ipython3",
   "version": "3.8.3"
  }
 },
 "nbformat": 4,
 "nbformat_minor": 4
}
